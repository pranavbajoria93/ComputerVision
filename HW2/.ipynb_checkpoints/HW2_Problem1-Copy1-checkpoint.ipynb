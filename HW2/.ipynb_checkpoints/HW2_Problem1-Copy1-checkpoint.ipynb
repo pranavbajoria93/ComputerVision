{
 "cells": [
  {
   "cell_type": "code",
   "execution_count": 1,
   "metadata": {},
   "outputs": [],
   "source": [
    "# Importing all the dependencies\n",
    "import numpy as np\n",
    "from matplotlib import pyplot as plt\n",
    "import cv2\n",
    "import ipdb\n",
    "import scipy\n",
    "import math\n",
    "from itertools import combinations"
   ]
  },
  {
   "cell_type": "code",
   "execution_count": 32,
   "metadata": {},
   "outputs": [],
   "source": [
    "# function to compute the centroid of the given points\n",
    "def getCentroid(points):\n",
    "    xSum = sum([i[0] for i in points])\n",
    "    ySum = sum([i[1] for i in points])\n",
    "    centroid = (xSum/len(points), ySum/len(points) )\n",
    "    return centroid"
   ]
  },
  {
   "cell_type": "code",
   "execution_count": 3,
   "metadata": {},
   "outputs": [],
   "source": [
    "# function to subtract all the points in the polygon to bring the centroid to the origin\n",
    "def recenter(points):\n",
    "    centroid = getCentroid(points)\n",
    "    recentered = np.empty((len(points), len(points[0])), dtype = np.float32)\n",
    "    for i, point in enumerate(points):\n",
    "        recentered[i][0] = (point[0]-centroid[0])\n",
    "        recentered[i][1] = (point[1]-centroid[1])\n",
    "    \n",
    "    return np.array([centroid]), recentered"
   ]
  },
  {
   "cell_type": "markdown",
   "metadata": {},
   "source": [
    "### Problem 4.3 Recovering the original transformation"
   ]
  },
  {
   "cell_type": "code",
   "execution_count": 37,
   "metadata": {},
   "outputs": [],
   "source": [
    "def contructLinear(pt1, pt2):\n",
    "    lin = np.zeros((2,7), np.float32)\n",
    "    lin[0, :] = [pt1[0], -pt1[1], 1, -1, 0, 0, -pt2[0]]\n",
    "    lin[1, :] = [pt2[1], pt2[0], 0, 0, 1, 1, -pt2[1]]\n",
    "#     print(lin)\n",
    "    return lin"
   ]
  },
  {
   "cell_type": "code",
   "execution_count": 39,
   "metadata": {},
   "outputs": [],
   "source": [
    "def computeH(im1_pts, im2_pts):\n",
    "    #im1Pts and im2Pts are 2xn \n",
    "    #to form the A matrix for SVD\n",
    "    A = np.zeros((2*len(im1_pts[0]),7), np.float32)\n",
    "    for i in range(len(im1_pts[0])):\n",
    "        A[2*i: 2*i+2, :] = contructLinear(im1_pts[:,i], im2_pts[:,i])\n",
    "    S, U, Vt = cv2.SVDecomp(A)\n",
    "    \n",
    "    #choose the V that has least singular value, which is the S9, hence the 9th row in Vtranspose\n",
    "    h = Vt[len(Vt)-1,:]\n",
    "    print (h)\n",
    "    return h"
   ]
  },
  {
   "cell_type": "code",
   "execution_count": 33,
   "metadata": {},
   "outputs": [],
   "source": [
    "# function to compute the Rotation and translation between point correspondences\n",
    "# by linear least squares optimization\n",
    "def findRotationTranslation(pointsA, pointsB):\n",
    "    #recenter all the points w.r.t their centroids to overlap both the centroids at the origin\n",
    "    centroidA, recenteredA = recenter(pointsA)\n",
    "    centroidB, recenteredB = recenter(pointsB)\n",
    "    dim = len(pointsA[0])\n",
    "    H = []\n",
    "    for i in range(dim):\n",
    "        recenteredRowA = np.array([recenteredA[i]])\n",
    "        recenteredRowB = np.array([recenteredB[i]])\n",
    "        if i == 0:\n",
    "            # by LLS, H = sum[(P - P_centroid).transpose*(Q - Q_centroid)]\n",
    "            H = np.matmul(recenteredRowA.T, recenteredRowB)\n",
    "        H = np.add(H, np.matmul(recenteredRowA.T, recenteredRowB))\n",
    "    S, U, Vt = cv2.SVDecomp(H)\n",
    "    # rot = V * U.transpose\n",
    "    rotMat = np.matmul(Vt.T, U.T)\n",
    "    rot = math.degrees(np.arccos(rotMat[0, 0]))\n",
    "    # translation = (Q_centroid - R*P_centroid)\n",
    "    translationMat = np.subtract(centroidB.T, np.matmul(rotMat,centroidA.T))\n",
    "    return rot, translationMat"
   ]
  },
  {
   "cell_type": "markdown",
   "metadata": {},
   "source": [
    "### Feauture Matcher"
   ]
  },
  {
   "cell_type": "code",
   "execution_count": 34,
   "metadata": {},
   "outputs": [],
   "source": [
    "def getMatchedPairs(Corners1, Corners2, Angles1, Angles2):\n",
    "    matchedPairs = list()\n",
    "    for i in range(len(Angles1)):\n",
    "        for j in range(len(Angles2)):\n",
    "            # if the difference in the angles is less than a threshold value, \n",
    "            #choose the pair as a good match\n",
    "            if(abs(Angles2[j]-Angles1[i]) < 1):\n",
    "                matchedPairs.append((Corners1[i],Corners2[j]))\n",
    "    return matchedPairs"
   ]
  },
  {
   "cell_type": "code",
   "execution_count": 49,
   "metadata": {},
   "outputs": [],
   "source": [
    "def getAngle(b, tup):\n",
    "    a, c = tup\n",
    "    a = np.array(a)\n",
    "    b = np.array(b)\n",
    "    c = np.array(c)\n",
    "    #constructing the vectors\n",
    "    ba = a - b\n",
    "    bc = c-b\n",
    "    # for getting angles between two vectors, \n",
    "    # cos_theta = dot(vecA, vecB)/(mag(A)mag(B)) \n",
    "    cosin_angl = np.dot(ba,bc) / (np.linalg.norm(ba) * np.linalg.norm(bc))\n",
    "    angl = np.arccos(cosin_angl)\n",
    "    return np.degrees(angl)"
   ]
  },
  {
   "cell_type": "code",
   "execution_count": 7,
   "metadata": {},
   "outputs": [],
   "source": [
    "def getAngles(Points):\n",
    "    size = len(Points)   \n",
    "    maxAngle = list()\n",
    "    for i, point in enumerate(Points):\n",
    "        #calculate angles from i to each of the other 2 points\n",
    "        angles = list()\n",
    "        pointsList = list(combinations((Points[:i]+Points[i+1:]),2))\n",
    "        for j, pair in enumerate(pointsList):\n",
    "            angles.append(getAngle(point,pair))\n",
    "        maxAngle.append(max(angles))\n",
    "    return maxAngle"
   ]
  },
  {
   "cell_type": "code",
   "execution_count": 9,
   "metadata": {},
   "outputs": [],
   "source": [
    "######## Problem 4 2D Transformations ##########"
   ]
  },
  {
   "cell_type": "code",
   "execution_count": 11,
   "metadata": {},
   "outputs": [],
   "source": [
    "# function for performing corner detection\n",
    "def detectHarris(Img):\n",
    "    row, col = Img.shape\n",
    "    iX = cv2.Sobel(Img,cv2.CV_64F,1,0,ksize = 3)\n",
    "    iXNorm = iX - np.mean(iX)\n",
    "    iY = cv2.Sobel(Img,cv2.CV_64F,0,1,ksize = 3)\n",
    "    iYNorm = iY - np.mean(iY)\n",
    "    iX_2 = iXNorm*iXNorm\n",
    "    iY_2 = iYNorm*iYNorm\n",
    "    iXY = iXNorm*iYNorm\n",
    "\n",
    "    iX_2Norm = cv2.GaussianBlur(iX_2, (3,3), 2)\n",
    "    iY_2Norm = cv2.GaussianBlur(iY_2, (3,3), 2)\n",
    "    iXYNorm = cv2.GaussianBlur(iXY, (3,3), 2)\n",
    "    R = np.zeros((row, col))\n",
    "    maxCorner = 0\n",
    "    cornerIndices = list()\n",
    "    for i in range(row):\n",
    "        for j in range(col):\n",
    "            M = np.array([[iX_2Norm[i,j], iXYNorm[i,j]],[iXYNorm[i,j], iY_2Norm[i,j]]], dtype = np.float64)\n",
    "            R[i, j] = np.linalg.det(M) - 0.04 * np.power(np.trace(M),2)\n",
    "            if (R[i,j]>maxCorner):\n",
    "                maxCorner = R[i, j]\n",
    "    for k in range(1, row-1):\n",
    "        for l in range(1, col-1):            \n",
    "            if(R[k,l]> 0.3*maxCorner and R[k,l]>R[k-1,l-1] and R[k,l]> R[k-1, l+1] and R[k,l]>R[k+1, l-1]) and R[k,l]>R[k+1, l+1] and R[k,l]>R[k, l-1] and R[k,l]>R[k-1, l] and R[k,l]>R[k, l+1] and R[k,l]>=R[k+1, l] :  \n",
    "                cornerIndices.append([l,k])\n",
    "    return cornerIndices\n"
   ]
  },
  {
   "cell_type": "code",
   "execution_count": 21,
   "metadata": {},
   "outputs": [
    {
     "data": {
      "image/png": "[encoded data removed]",
      "text/plain": [
       "<Figure size 432x288 with 1 Axes>"
      ]
     },
     "metadata": {
      "needs_background": "light"
     },
     "output_type": "display_data"
    }
   ],
   "source": [
    "######## Section 4.1 ##########\n",
    "img = np.zeros((300,300), np.uint8)\n",
    "polyPoints = np.array([[180, 60], [120,75], [120, 135], [200, 105]], dtype = np.int32)\n",
    "\n",
    "# this is the center around which the image will be rotated later.\n",
    "centerForRot = (150,150)\n",
    "Img = cv2.fillPoly(img, [polyPoints], 1)\n",
    "\n",
    "# to make sure the polygon is in the center, translate the centroid to the center of the image \n",
    "originalCentroid = getCentroid(polyPoints)\n",
    "tX = originalCentroid[0]-centerForRot[0]\n",
    "tY = originalCentroid[1]-centerForRot[1]\n",
    "originalImg = cv2.warpAffine(Img, np.float32([[1,0,-tX],[0,1,-tY]]), img.shape)\n",
    "plt.imshow(originalImg, 'gray')\n",
    "plt.title('original irregular quadrilateral centered in the image')\n",
    "plt.show()\n"
   ]
  },
  {
   "cell_type": "markdown",
   "metadata": {},
   "source": [
    "Rotation and Translation is not commutative. Hence to get a rotated quadrilateral at a different location, we must first perform rotation of the square around the center and then translate it"
   ]
  },
  {
   "cell_type": "code",
   "execution_count": 22,
   "metadata": {},
   "outputs": [
    {
     "data": {
      "image/png": "[encoded data removed]",
      "text/plain": [
       "<Figure size 432x288 with 1 Axes>"
      ]
     },
     "metadata": {
      "needs_background": "light"
     },
     "output_type": "display_data"
    },
    {
     "data": {
      "text/plain": [
       "<matplotlib.image.AxesImage at 0x1ee391bf4a8>"
      ]
     },
     "execution_count": 22,
     "metadata": {},
     "output_type": "execute_result"
    },
    {
     "data": {
      "image/png": "[encoded data removed]",
      "text/plain": [
       "<Figure size 432x288 with 1 Axes>"
      ]
     },
     "metadata": {
      "needs_background": "light"
     },
     "output_type": "display_data"
    }
   ],
   "source": [
    "translationMatrix = np.float32([[1,0,30],[0,1,100]])\n",
    "translatedImg = cv2.warpAffine(originalImg, translationMatrix, img.shape)\n",
    "rotationMat = cv2.getRotationMatrix2D(centerForRot, 45, 1)\n",
    "rotatedImg = cv2.warpAffine(translatedImg, rotationMat, originalImg.shape)\n",
    "plt.imshow(translatedImg, 'gray')\n",
    "plt.show()\n",
    "plt.imshow(rotatedImg, 'gray')"
   ]
  },
  {
   "cell_type": "code",
   "execution_count": 23,
   "metadata": {},
   "outputs": [
    {
     "name": "stdout",
     "output_type": "stream",
     "text": [
      "original image corners  [[175, 116], [115, 131], [195, 161], [115, 191]]\n",
      "Transformed image corners  [[235, 158], [281, 175], [204, 211], [246, 253]]\n"
     ]
    }
   ],
   "source": [
    "cornersTransformed = detectHarris(rotatedImg)\n",
    "cornersOriginal = detectHarris(originalImg)\n",
    "print('original image corners ',cornersOriginal)\n",
    "print('Transformed image corners ',cornersTransformed)"
   ]
  },
  {
   "cell_type": "code",
   "execution_count": 24,
   "metadata": {},
   "outputs": [
    {
     "name": "stdout",
     "output_type": "stream",
     "text": [
      "[99.92624550665171, 104.03624346792648, 86.59355624500529, 69.44395478041653]\n",
      "[100.04104777363338, 86.11592924593111, 104.67639313745002, 69.16662984298549]\n",
      "[[175, 116], [115, 131], [195, 161], [115, 191]]\n",
      "[[235, 158], [204, 211], [281, 175], [246, 253]]\n"
     ]
    }
   ],
   "source": [
    "anglesOriginal = getAngles(cornersOriginal)\n",
    "print(anglesOriginal)\n",
    "anglesTransformed = getAngles(cornersTransformed)\n",
    "print(anglesTransformed)\n",
    "matches = getMatchedPairs(cornersOriginal, cornersTransformed, anglesOriginal, anglesTransformed)\n",
    "#storing matches in respective pairs as list with same indexes\n",
    "matchedPoints1 = [i[0] for i in matches]\n",
    "matchedPoints2 = [i[1] for i in matches]\n",
    "print(matchedPoints1)\n",
    "print(matchedPoints2)"
   ]
  },
  {
   "cell_type": "code",
   "execution_count": 31,
   "metadata": {},
   "outputs": [
    {
     "name": "stdout",
     "output_type": "stream",
     "text": [
      "shape of centroid A (1, 2)\n",
      "The rotation angle dervicd from Least Square optimization is  45.51210834563913\n",
      "translation retained is [[-122.91150043]\n",
      " [ 162.1618985 ]]\n"
     ]
    }
   ],
   "source": [
    "rotAngle, transMat = findRotationTranslation(matchedPoints1,matchedPoints2)\n",
    "\n",
    "print(\"The rotation angle dervicd from Least Square optimization is \", rotAngle)\n",
    "print(\"translation retained is\", transMat)"
   ]
  },
  {
   "cell_type": "code",
   "execution_count": 41,
   "metadata": {},
   "outputs": [
    {
     "data": {
      "text/plain": [
       "array([[ 175., -116.,    1.,   -1.,    0.,    0., -235.],\n",
       "       [ 158.,  235.,    0.,    0.,    1.,    1., -158.]], dtype=float32)"
      ]
     },
     "execution_count": 41,
     "metadata": {},
     "output_type": "execute_result"
    }
   ],
   "source": [
    "contructLinear(matchedPoints1[0], matchedPoints2[0])"
   ]
  },
  {
   "cell_type": "code",
   "execution_count": 48,
   "metadata": {},
   "outputs": [
    {
     "name": "stdout",
     "output_type": "stream",
     "text": [
      "[ 5.7703392e-10  1.8724176e-10 -6.5087116e-01 -6.5087110e-01\n",
      "  2.7634528e-01 -2.7634534e-01  3.3316538e-10]\n"
     ]
    },
    {
     "data": {
      "text/plain": [
       "array([ 5.7703392e-10,  1.8724176e-10, -6.5087116e-01, -6.5087110e-01,\n",
       "        2.7634528e-01, -2.7634534e-01,  3.3316538e-10], dtype=float32)"
      ]
     },
     "execution_count": 48,
     "metadata": {},
     "output_type": "execute_result"
    }
   ],
   "source": [
    "computeH((np.array(matchedPoints1)).T, (np.array(matchedPoints2)).T )"
   ]
  }
 ],
 "metadata": {
  "kernelspec": {
   "display_name": "Python 3",
   "language": "python",
   "name": "python3"
  },
  "language_info": {
   "codemirror_mode": {
    "name": "ipython",
    "version": 3
   },
   "file_extension": ".py",
   "mimetype": "text/x-python",
   "name": "python",
   "nbconvert_exporter": "python",
   "pygments_lexer": "ipython3",
   "version": "3.7.3"
  }
 },
 "nbformat": 4,
 "nbformat_minor": 2
}
