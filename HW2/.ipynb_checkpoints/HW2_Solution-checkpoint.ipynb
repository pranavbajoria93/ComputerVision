{
 "cells": [
  {
   "cell_type": "code",
   "execution_count": 67,
   "metadata": {},
   "outputs": [],
   "source": [
    "# Importing all the dependencies\n",
    "\n",
    "import numpy as np\n",
    "from matplotlib import pyplot as plt\n",
    "import cv2\n",
    "import ipdb\n",
    "import scipy\n",
    "import math\n",
    "from itertools import combinations"
   ]
  },
  {
   "cell_type": "code",
   "execution_count": 139,
   "metadata": {},
   "outputs": [],
   "source": [
    "def getCentroid(points):\n",
    "    xSum = sum([i[0] for i in points])\n",
    "    ySum = sum([i[1] for i in points])\n",
    "    centroid = (xSum/len(points), ySum/len(points) )\n",
    "#     print('centroid is ',centroid )\n",
    "    return centroid"
   ]
  },
  {
   "cell_type": "code",
   "execution_count": 263,
   "metadata": {},
   "outputs": [],
   "source": [
    "def recenter(points):\n",
    "    centroid = getCentroid(points)\n",
    "    recentered = np.empty((len(points), len(points[0])), dtype = np.float32)\n",
    "    for i, point in enumerate(points):\n",
    "        recentered[i][0] = (point[0]-centroid[0])\n",
    "        recentered[i][1] = (point[1]-centroid[1])\n",
    "    print(\"recentered array\", recentered.shape)\n",
    "    return recentered"
   ]
  },
  {
   "cell_type": "code",
   "execution_count": 284,
   "metadata": {},
   "outputs": [],
   "source": [
    "def findRotation(pointsA, pointsB):\n",
    "    recenteredA = recenter(pointsA)\n",
    "    recenteredB = recenter(pointsB)\n",
    "    dim = len(pointsA[0])\n",
    "    H = []\n",
    "    for i in range(dim):\n",
    "\n",
    "        recenteredRowA = np.array([recenteredA[i]])\n",
    "        recenteredRowB = np.array([recenteredB[i]])\n",
    "        if i == 0:\n",
    "            print(\"transpose \", np.shape(recenteredRowA.T))\n",
    "            H = np.matmul(recenteredRowA.T, recenteredRowB)\n",
    "            \n",
    "#             H = np.matmul(recenteredA[i], np.transpose(recenteredB[i]))\n",
    "            print(H)\n",
    "        H = np.add(H, np.matmul(recenteredRowA.T, recenteredRowB))\n",
    "    print('H matrix', H)\n",
    "    S, U, Vt = cv2.SVDecomp(H)\n",
    "#     print('U is', U)\n",
    "#     print('V is', Vt)\n",
    "    \n",
    "    rot = np.matmul(Vt.T, U.T)\n",
    "    \n",
    "    return rot"
   ]
  },
  {
   "cell_type": "code",
   "execution_count": 261,
   "metadata": {},
   "outputs": [],
   "source": [
    "def getMatchedPairs(Corners1, Corners2, Angles1, Angles2):\n",
    "    matchedPairs = list()\n",
    "    for i in range(len(Angles1)):\n",
    "        for j in range(len(Angles2)):\n",
    "            if(abs(Angles2[j]-Angles1[i]) < 1):\n",
    "                matchedPairs.append((Corners1[i],Corners2[j]))\n",
    "    return matchedPairs"
   ]
  },
  {
   "cell_type": "code",
   "execution_count": 205,
   "metadata": {},
   "outputs": [],
   "source": [
    "def getAngle(b, tup):\n",
    "    a, c = tup\n",
    "    a = np.array(a)\n",
    "    b = np.array(b)\n",
    "    c = np.array(c)\n",
    "    ba = a - b\n",
    "    bc = c-b\n",
    "    \n",
    "    cosin_angl = np.dot(ba,bc) / (np.linalg.norm(ba) * np.linalg.norm(bc))\n",
    "    angl = np.arccos(cosin_angl)\n",
    "    return np.degrees(angl)"
   ]
  },
  {
   "cell_type": "code",
   "execution_count": 206,
   "metadata": {},
   "outputs": [],
   "source": [
    "def getAngles(Points):\n",
    "\n",
    "    size = len(Points)\n",
    "    \n",
    "    maxAngle = list()\n",
    "    for i, point in enumerate(Points):\n",
    "        #calculate angles from i to each of the other 2 points\n",
    "        angles = list()\n",
    "        pointsList = list(combinations((Points[:i]+Points[i+1:]),2))\n",
    "        \n",
    "        for j, pair in enumerate(pointsList):\n",
    "            angles.append(getAngle(point,pair))\n",
    "        \n",
    "        maxAngle.append(max(angles))\n",
    "    return maxAngle"
   ]
  },
  {
   "cell_type": "code",
   "execution_count": 99,
   "metadata": {},
   "outputs": [],
   "source": [
    "def getDistanceSum(Points):\n",
    "    size = len(Points)\n",
    "    distArr = np.empty((size,size), dtype= np.float32)\n",
    "    distSum = np.zeros(size, dtype = np.float32)\n",
    "    for i in range(size):\n",
    "        for j in range(i,size):\n",
    "            if i==j:\n",
    "                distArr[i,j]=0\n",
    "            else:\n",
    "                distArr[i, j] = np.sqrt(((Points[i][0]-Points[j][0])**2)+((Points[i][1]-Points[j][1])**2))\n",
    "                distArr[j, i] = distArr[i, j]\n",
    "        distSum[i] = np.sum(distArr[i])\n",
    "    \n",
    "    \n",
    "    return distSum                             \n",
    "#             if(distArr[i,j]==None):\n",
    "                \n",
    "                "
   ]
  },
  {
   "cell_type": "code",
   "execution_count": 2,
   "metadata": {},
   "outputs": [],
   "source": [
    "######## Problem 4 2D Transformations ##########"
   ]
  },
  {
   "cell_type": "code",
   "execution_count": 100,
   "metadata": {},
   "outputs": [],
   "source": [
    "def binaryHistogram(image, points):\n",
    "    hist = list()\n",
    "    for i, coord in enumerate(points):\n",
    "        imgWindow = image[coord[1]-2 : coord[1]+2, coord[0]-2:coord[0]+2]\n",
    "        hist.append(np.sum(imgWindow))\n",
    "    return hist"
   ]
  },
  {
   "cell_type": "code",
   "execution_count": 101,
   "metadata": {},
   "outputs": [],
   "source": [
    "# function for performing corner detection\n",
    "def detectHarris(Img):\n",
    "    row, col = Img.shape\n",
    "    iX = cv2.Sobel(Img,cv2.CV_64F,1,0,ksize = 3)\n",
    "    iXNorm = iX - np.mean(iX)\n",
    "    iY = cv2.Sobel(Img,cv2.CV_64F,0,1,ksize = 3)\n",
    "    iYNorm = iY - np.mean(iY)\n",
    "    iX_2 = iXNorm*iXNorm\n",
    "    iY_2 = iYNorm*iYNorm\n",
    "    iXY = iXNorm*iYNorm\n",
    "\n",
    "    iX_2Norm = cv2.GaussianBlur(iX_2, (3,3), 2)\n",
    "    iY_2Norm = cv2.GaussianBlur(iY_2, (3,3), 2)\n",
    "    iXYNorm = cv2.GaussianBlur(iXY, (3,3), 2)\n",
    "    R = np.zeros((row, col))\n",
    "    maxCorner = 0\n",
    "    cornerIndices = list()\n",
    "    for i in range(row):\n",
    "        for j in range(col):\n",
    "            M = np.array([[iX_2Norm[i,j], iXYNorm[i,j]],[iXYNorm[i,j], iY_2Norm[i,j]]], dtype = np.float64)\n",
    "            R[i, j] = np.linalg.det(M) - 0.04 * np.power(np.trace(M),2)\n",
    "            if (R[i,j]>maxCorner):\n",
    "                maxCorner = R[i, j]\n",
    "    for k in range(1, row-1):\n",
    "        for l in range(1, col-1):            \n",
    "            if(R[k,l]> 0.25*maxCorner and R[k,l]>R[k-1,l-1] and R[k,l]> R[k-1, l+1] and R[k,l]>R[k+1, l-1]) and R[k,l]>R[k+1, l+1] and R[k,l]>R[k, l-1] and R[k,l]>R[k-1, l] and R[k,l]>R[k, l+1] and R[k,l]>=R[k+1, l] :  \n",
    "                cornerIndices.append([l,k])\n",
    "    return cornerIndices\n"
   ]
  },
  {
   "cell_type": "code",
   "execution_count": 49,
   "metadata": {},
   "outputs": [
    {
     "data": {
      "text/plain": [
       "<matplotlib.image.AxesImage at 0x1b893e28f28>"
      ]
     },
     "execution_count": 49,
     "metadata": {},
     "output_type": "execute_result"
    },
    {
     "data": {
      "image/png": "[encoded data removed]",
      "text/plain": [
       "<Figure size 432x288 with 1 Axes>"
      ]
     },
     "metadata": {
      "needs_background": "light"
     },
     "output_type": "display_data"
    }
   ],
   "source": [
    "######## Section 4.1 ##########\n",
    "img = np.zeros((300,300), np.uint8)\n",
    "polyPoints = np.array([[180, 60], [120,75], [100, 135], [200, 165]], dtype = np.int32)\n",
    "originalImg = cv2.fillPoly(img, [polyPoints], 1)\n",
    "# img[125:175, 125:175] = np.ones((50,50), np.uint8)\n",
    "plt.imshow(originalImg, 'gray')\n",
    "#center = img.shape"
   ]
  },
  {
   "cell_type": "markdown",
   "metadata": {},
   "source": [
    "Rotation and Translation is not commutative. Hence to get a rotated quadrilateral at a different location, we must first perform rotation of the square around the center and then translate it"
   ]
  },
  {
   "cell_type": "code",
   "execution_count": 62,
   "metadata": {},
   "outputs": [
    {
     "data": {
      "text/plain": [
       "<matplotlib.image.AxesImage at 0x1b893ed7470>"
      ]
     },
     "execution_count": 62,
     "metadata": {},
     "output_type": "execute_result"
    },
    {
     "data": {
      "image/png": "[encoded data removed]",
      "text/plain": [
       "<Figure size 432x288 with 1 Axes>"
      ]
     },
     "metadata": {
      "needs_background": "light"
     },
     "output_type": "display_data"
    }
   ],
   "source": [
    "rotationMat = cv2.getRotationMatrix2D((150,150), 45, 1)\n",
    "rotatedImg = cv2.warpAffine(originalImg, rotationMat, originalImg.shape)\n",
    "translationMatrix = np.float32([[1,0,30],[0,1,100]])\n",
    "translatedImg = cv2.warpAffine(rotatedImg, translationMatrix, img.shape)\n",
    "plt.imshow(translatedImg, 'gray')"
   ]
  },
  {
   "cell_type": "code",
   "execution_count": 91,
   "metadata": {},
   "outputs": [
    {
     "name": "stdout",
     "output_type": "stream",
     "text": [
      "original image corners  [[180, 60], [120, 75], [100, 135], [200, 165]]\n",
      "Transformed image corners  [[138, 165], [106, 218], [225, 225], [134, 274]]\n"
     ]
    }
   ],
   "source": [
    "cornersTransformed = detectHarris(translatedImg)\n",
    "cornersOriginal = detectHarris(originalImg)\n",
    "print('original image corners ',cornersOriginal)\n",
    "print('Transformed image corners ',cornersTransformed)\n",
    "# pointsList = list(combinations(cornersOriginal[:1]+cornersOriginal[1+1:],2))\n",
    "# print(pointsList)"
   ]
  },
  {
   "cell_type": "code",
   "execution_count": 187,
   "metadata": {},
   "outputs": [
    {
     "name": "stdout",
     "output_type": "stream",
     "text": [
      "[86.74805439963612, 122.47119229084849, 88.26429541107161, 62.516457898443775]\n",
      "[86.53018150928206, 122.31247862613, 62.89304445351632, 88.26429541107161]\n"
     ]
    }
   ],
   "source": [
    "anglesOriginal = getAngles(cornersOriginal)\n",
    "print(anglesOriginal)\n",
    "anglesTransformed = getAngles(cornersTransformed)\n",
    "print(anglesTransformed)\n",
    "matches = getMatchedPairs(cornersOriginal, cornersTransformed, anglesOriginal, anglesTransformed)\n",
    "#storing matches in respective pairs as list with same indexes\n",
    "matchedPoints1 = [i[0] for i in matches]\n",
    "matchedPoints2 = [i[1] for i in matches]\n"
   ]
  },
  {
   "cell_type": "code",
   "execution_count": 285,
   "metadata": {},
   "outputs": [
    {
     "name": "stdout",
     "output_type": "stream",
     "text": [
      "centroid is  (150.0, 108.75)\n",
      "recentered array (4, 2)\n",
      "centroid is  (150.75, 220.5)\n",
      "recentered array (4, 2)\n",
      "transpose  (2, 1)\n",
      "[[ -382.5    -1665.    ]\n",
      " [  621.5625  2705.625 ]]\n",
      "H matrix [[  577.5    -3255.    ]\n",
      " [ 2753.4375  5495.625 ]]\n",
      "U is [[-0.42669705 -0.90439457]\n",
      " [ 0.9043946  -0.4266971 ]]\n",
      "V is [[ 0.33273885  0.94301903]\n",
      " [-0.94301903  0.33273885]]\n"
     ]
    }
   ],
   "source": [
    "rotMat = findRotation(matchedPoints1,matchedPoints2)"
   ]
  },
  {
   "cell_type": "code",
   "execution_count": 286,
   "metadata": {},
   "outputs": [
    {
     "name": "stdout",
     "output_type": "stream",
     "text": [
      "[[-0.99483997 -0.10145625]\n",
      " [ 0.10145625 -0.99484   ]]\n"
     ]
    }
   ],
   "source": [
    "print(rotMat)"
   ]
  },
  {
   "cell_type": "code",
   "execution_count": null,
   "metadata": {},
   "outputs": [],
   "source": []
  },
  {
   "cell_type": "code",
   "execution_count": null,
   "metadata": {},
   "outputs": [],
   "source": []
  },
  {
   "cell_type": "code",
   "execution_count": null,
   "metadata": {},
   "outputs": [],
   "source": []
  }
 ],
 "metadata": {
  "kernelspec": {
   "display_name": "Python 3",
   "language": "python",
   "name": "python3"
  },
  "language_info": {
   "codemirror_mode": {
    "name": "ipython",
    "version": 3
   },
   "file_extension": ".py",
   "mimetype": "text/x-python",
   "name": "python",
   "nbconvert_exporter": "python",
   "pygments_lexer": "ipython3",
   "version": "3.7.3"
  }
 },
 "nbformat": 4,
 "nbformat_minor": 2
}
