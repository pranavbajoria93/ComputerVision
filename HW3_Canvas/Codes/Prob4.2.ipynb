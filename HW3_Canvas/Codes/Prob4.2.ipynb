{
 "cells": [
  {
   "cell_type": "code",
   "execution_count": 1,
   "metadata": {},
   "outputs": [],
   "source": [
    "import numpy as np\n",
    "import cv2\n",
    "from matplotlib import pyplot as plt\n",
    "import random"
   ]
  },
  {
   "cell_type": "code",
   "execution_count": 4,
   "metadata": {},
   "outputs": [],
   "source": [
    "drive = 'squares_dataset/'"
   ]
  },
  {
   "cell_type": "code",
   "execution_count": 6,
   "metadata": {},
   "outputs": [],
   "source": [
    "for i in range(5000):\n",
    "    x = random.randrange(0,10)\n",
    "    img = np.zeros((64,64,3), np.uint8)\n",
    "    color = (random.randrange(1,255), random.randrange(1,255), random.randrange(1,255))\n",
    "\n",
    "    img[32-x:32+x, 32-x:32+x, :] = tuple(reversed(color))\n",
    "    rotationMat = cv2.getRotationMatrix2D((32,32), random.randrange(0,90), 1)\n",
    "    img = cv2.warpAffine(img, rotationMat,(img.shape[0],img.shape[1]))\n",
    "    trans_mat = np.float32([[1,0,random.randrange(-20,20)], [0,1,random.randrange(-20,20)]])\n",
    "    img = cv2.warpAffine(img, trans_mat, (img.shape[0],img.shape[1]))\n",
    "    # cv2.war\n",
    "    file = drive + 'square'+ str(i) + '.png'\n",
    "    plt.imsave(file, img)\n"
   ]
  }
 ],
 "metadata": {
  "kernelspec": {
   "display_name": "Python 3",
   "language": "python",
   "name": "python3"
  },
  "language_info": {
   "codemirror_mode": {
    "name": "ipython",
    "version": 3
   },
   "file_extension": ".py",
   "mimetype": "text/x-python",
   "name": "python",
   "nbconvert_exporter": "python",
   "pygments_lexer": "ipython3",
   "version": "3.7.3"
  }
 },
 "nbformat": 4,
 "nbformat_minor": 2
}
